{
 "cells": [
  {
   "cell_type": "markdown",
   "id": "Yk20qlspJUG8",
   "metadata": {
    "id": "Yk20qlspJUG8"
   },
   "source": [
    "#Connecting Python To Mysql"
   ]
  },
  {
   "cell_type": "code",
   "execution_count": null,
   "id": "5bd1a97b-3bcc-4db9-a162-4feda4de7b01",
   "metadata": {
    "id": "5bd1a97b-3bcc-4db9-a162-4feda4de7b01",
    "outputId": "047c49d3-968f-46da-8afd-2745efeadeac"
   },
   "outputs": [
    {
     "name": "stdout",
     "output_type": "stream",
     "text": [
      "Defaulting to user installation because normal site-packages is not writeable\n",
      "Requirement already satisfied: mysql-connector-python in c:\\users\\admin\\appdata\\local\\packages\\pythonsoftwarefoundation.python.3.12_qbz5n2kfra8p0\\localcache\\local-packages\\python312\\site-packages (9.0.0)\n",
      "Note: you may need to restart the kernel to use updated packages.\n"
     ]
    }
   ],
   "source": [
    "pip install mysql-connector-python"
   ]
  },
  {
   "cell_type": "code",
   "execution_count": null,
   "id": "247b8d6c-3081-4039-86bd-5508ed9e30f6",
   "metadata": {
    "id": "247b8d6c-3081-4039-86bd-5508ed9e30f6"
   },
   "outputs": [],
   "source": [
    "import mysql.connector"
   ]
  },
  {
   "cell_type": "code",
   "execution_count": null,
   "id": "ffe5e24d-8d5b-47d4-b5ec-78aff2c97068",
   "metadata": {
    "id": "ffe5e24d-8d5b-47d4-b5ec-78aff2c97068"
   },
   "outputs": [],
   "source": [
    "# Connect to the MySQL database\n",
    "mydb=mysql.connector.connect(\n",
    "    host='localhost',\n",
    "    user='root',\n",
    "    passwd='a1s2d3f4g5'\n",
    ")"
   ]
  },
  {
   "cell_type": "code",
   "execution_count": null,
   "id": "f1429820-062b-4718-b2a7-7f0f5ae4fa56",
   "metadata": {
    "id": "f1429820-062b-4718-b2a7-7f0f5ae4fa56"
   },
   "outputs": [],
   "source": [
    "# Create a cursor object\n",
    "mycursor=mydb.cursor()"
   ]
  },
  {
   "cell_type": "code",
   "execution_count": null,
   "id": "0aaaca6c-2158-4d9b-98ab-1fcdb3ee4028",
   "metadata": {
    "id": "0aaaca6c-2158-4d9b-98ab-1fcdb3ee4028"
   },
   "outputs": [],
   "source": [
    "# Execute the SQL query to create the table\n",
    "mycursor.execute(\"CREATE DATABASE mygoogle1\")"
   ]
  },
  {
   "cell_type": "code",
   "execution_count": null,
   "id": "59e04afe-3767-488a-82f8-cfeeac7d36ba",
   "metadata": {
    "id": "59e04afe-3767-488a-82f8-cfeeac7d36ba",
    "outputId": "041a7577-92f2-48d8-c3a6-0f7f811045f9"
   },
   "outputs": [
    {
     "name": "stdout",
     "output_type": "stream",
     "text": [
      "Table created successfully!\n"
     ]
    }
   ],
   "source": [
    "# Connect to the MySQL database\n",
    "conn = mysql.connector.connect(\n",
    "    host=\"localhost\",\n",
    "    user=\"root\",\n",
    "    password=\"a1s2d3f4g5\",\n",
    "    database=\"mygoogle1\"\n",
    ")\n",
    "\n",
    "# Create a cursor object\n",
    "cursor = conn.cursor()\n",
    "\n",
    "# SQL query to create a table\n",
    "create_table_query = \"\"\"\n",
    "CREATE TABLE employees (\n",
    "    id INT PRIMARY KEY,\n",
    "    first_name VARCHAR(50),\n",
    "    last_name VARCHAR(50),\n",
    "    email VARCHAR(100),\n",
    "    hire_date DATE,\n",
    "    salary DECIMAL(10, 2)\n",
    ")\n",
    "\"\"\"\n",
    "\n",
    "# Execute the SQL query to create the table\n",
    "cursor.execute(create_table_query)\n",
    "\n",
    "# Commit the changes to the database (only necessary for INSERT, UPDATE, DELETE)\n",
    "conn.commit()\n",
    "\n",
    "# Close the cursor and connection\n",
    "cursor.close()\n",
    "conn.close()\n",
    "\n",
    "print(\"Table created successfully!\")\n"
   ]
  },
  {
   "cell_type": "markdown",
   "id": "jHud6WeBJs9N",
   "metadata": {
    "id": "jHud6WeBJs9N"
   },
   "source": [
    "#Beautiful Soup"
   ]
  },
  {
   "cell_type": "code",
   "execution_count": 1,
   "id": "HCmJ5009JwLc",
   "metadata": {
    "id": "HCmJ5009JwLc"
   },
   "outputs": [],
   "source": [
    "import requests\n",
    "from bs4 import BeautifulSoup"
   ]
  },
  {
   "cell_type": "code",
   "execution_count": 4,
   "id": "Qwl_IOChJzlF",
   "metadata": {
    "colab": {
     "base_uri": "https://localhost:8080/"
    },
    "id": "Qwl_IOChJzlF",
    "outputId": "3907c70d-33f7-4843-b61b-55f0703e7d30"
   },
   "outputs": [
    {
     "name": "stdout",
     "output_type": "stream",
     "text": [
      "<Response [200]>\n"
     ]
    }
   ],
   "source": [
    "#  Define the URL of the webpage to be accessed\n",
    "URL=\"https://newartscollege.ac.in/\"\n",
    "\n",
    "# Send a GET request to the specified URL and store the response in the 'page' variable\n",
    "page = requests.get(URL)\n",
    "print(page)\n"
   ]
  },
  {
   "cell_type": "code",
   "execution_count": 5,
   "id": "lOQMk6QNJ15j",
   "metadata": {
    "colab": {
     "base_uri": "https://localhost:8080/"
    },
    "id": "lOQMk6QNJ15j",
    "outputId": "172aa202-c083-4076-b94c-ee3da5f3717e"
   },
   "outputs": [
    {
     "name": "stdout",
     "output_type": "stream",
     "text": [
      "<div aria-labelledby=\"pum_popup_title_2825\" aria-modal=\"false\" class=\"pum pum-overlay pum-theme-2816 pum-theme-default-theme popmake-overlay click_open\" data-popmake='{\"id\":2825,\"slug\":\"m-sc-admissions-2022-23\",\"theme_id\":2816,\"cookies\":[],\"triggers\":[{\"type\":\"click_open\",\"settings\":{\"extra_selectors\":\"\",\"cookie_name\":null}}],\"mobile_disabled\":null,\"tablet_disabled\":null,\"meta\":{\"display\":{\"stackable\":false,\"overlay_disabled\":false,\"scrollable_content\":false,\"disable_reposition\":false,\"size\":\"medium\",\"responsive_min_width\":\"0%\",\"responsive_min_width_unit\":false,\"responsive_max_width\":\"100%\",\"responsive_max_width_unit\":false,\"custom_width\":\"640px\",\"custom_width_unit\":false,\"custom_height\":\"380px\",\"custom_height_unit\":false,\"custom_height_auto\":false,\"location\":\"center\",\"position_from_trigger\":false,\"position_top\":\"100\",\"position_left\":\"0\",\"position_bottom\":\"0\",\"position_right\":\"0\",\"position_fixed\":false,\"animation_type\":\"fade\",\"animation_speed\":\"350\",\"animation_origin\":\"center top\",\"overlay_zindex\":false,\"zindex\":\"1999999999\"},\"close\":{\"text\":\"\",\"button_delay\":\"0\",\"overlay_click\":false,\"esc_press\":false,\"f4_press\":false},\"click_open\":[]}}' id=\"pum-2825\" role=\"dialog\">\n",
      " <div class=\"pum-container popmake theme-2816 pum-responsive pum-responsive-medium responsive size-medium\" id=\"popmake-2825\">\n",
      "  <div class=\"pum-title popmake-title\" id=\"pum_popup_title_2825\">\n",
      "   M.Sc. Admissions 2022-23\n",
      "  </div>\n",
      "  <div class=\"pum-content popmake-content\" tabindex=\"0\">\n",
      "   <p>\n",
      "    <img alt=\"\" class=\"alignnone size-medium wp-image-2781\" decoding=\"async\" fetchpriority=\"high\" height=\"300\" sizes=\"(max-width: 208px) 100vw, 208px\" src=\"http://newartscollege.ac.in/wp-content/uploads/2022/09/WhatsApp-Image-2022-09-13-at-21.10.04-208x300.jpeg\" srcset=\"https://newartscollege.ac.in/wp-content/uploads/2022/09/WhatsApp-Image-2022-09-13-at-21.10.04-208x300.jpeg 208w, https://newartscollege.ac.in/wp-content/uploads/2022/09/WhatsApp-Image-2022-09-13-at-21.10.04-709x1024.jpeg 709w, https://newartscollege.ac.in/wp-content/uploads/2022/09/WhatsApp-Image-2022-09-13-at-21.10.04.jpeg 720w\" width=\"208\"/>\n",
      "   </p>\n",
      "  </div>\n",
      "  <button aria-label=\"Close\" class=\"pum-close popmake-close\" type=\"button\">\n",
      "   CLOSE\n",
      "  </button>\n",
      " </div>\n",
      "</div>\n",
      "\n"
     ]
    }
   ],
   "source": [
    "# Parse the content of the page using BeautifulSoup with the \"html.parser\" parser\n",
    "soup = BeautifulSoup(page.content, \"html.parser\")\n",
    "\n",
    "# Find the HTML element with a specific ID in the parsed content\n",
    "results = soup.find(id=\"pum-2825\")\n",
    "print(results.prettify())"
   ]
  },
  {
   "cell_type": "code",
   "execution_count": 6,
   "id": "UVZRrJB7J3pj",
   "metadata": {
    "colab": {
     "base_uri": "https://localhost:8080/"
    },
    "id": "UVZRrJB7J3pj",
    "outputId": "8b991703-d088-4887-9960-dfc2837e2d2a"
   },
   "outputs": [
    {
     "name": "stdout",
     "output_type": "stream",
     "text": [
      "Home -\n"
     ]
    }
   ],
   "source": [
    "# Extract the title of the webpage from the BeautifulSoup object\n",
    "title=soup.title.string\n",
    "print(title)"
   ]
  },
  {
   "cell_type": "code",
   "execution_count": 7,
   "id": "3KUT5hPJJ5f7",
   "metadata": {
    "colab": {
     "base_uri": "https://localhost:8080/"
    },
    "id": "3KUT5hPJJ5f7",
    "outputId": "d1d8856a-cb5e-4e4a-ff8e-52a359f5a597"
   },
   "outputs": [
    {
     "name": "stdout",
     "output_type": "stream",
     "text": [
      "https://newartscollege.ac.in/\n",
      "https://bcud.unipune.ac.in/utilities/college_search/CAAA016160_ENG/Pune_University_College\n",
      "https://en.wikipedia.org/wiki/New_Arts,_Commerce_and_Science_College,_Ahmednagar\n",
      "https://collegedunia.com/college/3235-new-arts-commerce-and-science-college-ahmednagar\n",
      "https://bcud.unipune.ac.in/utilities/college_search/CAAA016450_ENG/Pune_University_College\n",
      "https://newartscollegeshevgaon.com/\n",
      "https://newartscollegeshevgaon.com/about/other-colleges/\n",
      "https://newartscollegeshevgaon.com/about/about-college/\n",
      "https://newartscollegeshevgaon.com/departments/commerce/\n",
      "https://newartscollegeshevgaon.com/about/college-history/\n"
     ]
    }
   ],
   "source": [
    "try:\n",
    "  from googlesearch import search\n",
    "except ImportError:\n",
    "  print(\"No module named 'google' found\")\n",
    "\n",
    "# Define the search query\n",
    "query = \"New Arts Commerce & Science College, AhmedNagar\"\n",
    "\n",
    "# Perform the search and print the URLs\n",
    "for j in search (query, tld=\"co.in\", num=10, stop=10, pause=2):\n",
    "  print(j)"
   ]
  },
  {
   "cell_type": "code",
   "execution_count": null,
   "id": "DwOrNlfjKBPy",
   "metadata": {
    "id": "DwOrNlfjKBPy"
   },
   "outputs": [],
   "source": []
  }
 ],
 "metadata": {
  "colab": {
   "provenance": []
  },
  "kernelspec": {
   "display_name": "Python 3 (ipykernel)",
   "language": "python",
   "name": "python3"
  },
  "language_info": {
   "codemirror_mode": {
    "name": "ipython",
    "version": 3
   },
   "file_extension": ".py",
   "mimetype": "text/x-python",
   "name": "python",
   "nbconvert_exporter": "python",
   "pygments_lexer": "ipython3",
   "version": "3.12.6"
  }
 },
 "nbformat": 4,
 "nbformat_minor": 5
}
